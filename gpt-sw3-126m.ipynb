{
 "cells": [
  {
   "cell_type": "code",
   "execution_count": null,
   "id": "355db140-df73-43f6-ae7a-eec63d1f868b",
   "metadata": {
    "tags": []
   },
   "outputs": [],
   "source": [
    "# Notebook by Daniel Zakrisson at Scaleout Systems - www.scaleoutsystems.com\n",
    "# \n",
    "# This process will load small models (i.e. one .bin files), large models has \n",
    "# another process (see separate example).\n",
    "# \n",
    "# Assumes models are downloaded and available in a sub directory, \n",
    "# e.g. using 'git clone https://huggingface.co/AI-Sweden-Models/gpt-sw3-6.7b-v2'\n",
    "\n",
    "\n",
    "import torch\n",
    "from transformers import pipeline, AutoModelForCausalLM\n",
    "\n",
    "# Initialize device\n",
    "device = \"cuda:0\" if torch.cuda.is_available() else \"cpu\"\n",
    "\n",
    "# Initialize Model\n",
    "checkpoint = 'gpt-sw3-126m-instruct'\n",
    "model = AutoModelForCausalLM.from_pretrained(checkpoint)\n",
    "model.eval()\n",
    "model.to(device)"
   ]
  },
  {
   "cell_type": "code",
   "execution_count": null,
   "id": "7459daf9-2a81-463b-844d-c58d3ba3f2d8",
   "metadata": {
    "tags": []
   },
   "outputs": [],
   "source": [
    "# Initialize Tokenizer\n",
    "\n",
    "from transformers import AutoTokenizer\n",
    "\n",
    "tokenizer = AutoTokenizer.from_pretrained('gpt-sw3-126m-instruct', use_fast=True)"
   ]
  },
  {
   "cell_type": "code",
   "execution_count": null,
   "id": "c8fdf122-b710-44e0-ad7a-69bf0ccbb30d",
   "metadata": {
    "tags": []
   },
   "outputs": [],
   "source": [
    "prompt = \"\"\"\"\n",
    "<|endoftext|><s>\n",
    "User:\n",
    "Vad är sentimentet (positiv, neutral, negativ) i följande mening? Den nya hemsidan är ganska snygg\n",
    "<s>\n",
    "Bot: \n",
    "\"\"\".strip()\n",
    "inputs = tokenizer(prompt, return_tensors=\"pt\").to(0)\n",
    "\n",
    "output = model.generate(\n",
    "    inputs=inputs[\"input_ids\"],\n",
    "    do_sample=True,\n",
    "    max_new_tokens=100,\n",
    "    temperature=0.75,\n",
    "    top_p=0.95,\n",
    "    repetition_penalty=1.2,\n",
    "    pad_token_id=tokenizer.eos_token_id\n",
    ")[0]\n",
    "\n",
    "generated_text = tokenizer.decode(output)  \n",
    "print(generated_text)"
   ]
  }
 ],
 "metadata": {
  "kernelspec": {
   "display_name": "Python 3 (ipykernel)",
   "language": "python",
   "name": "python3"
  },
  "language_info": {
   "codemirror_mode": {
    "name": "ipython",
    "version": 3
   },
   "file_extension": ".py",
   "mimetype": "text/x-python",
   "name": "python",
   "nbconvert_exporter": "python",
   "pygments_lexer": "ipython3",
   "version": "3.8.16"
  }
 },
 "nbformat": 4,
 "nbformat_minor": 5
}
